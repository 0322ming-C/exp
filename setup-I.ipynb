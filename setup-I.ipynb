{
 "cells": [
  {
   "cell_type": "code",
   "id": "initial_id",
   "metadata": {
    "collapsed": true,
    "ExecuteTime": {
     "end_time": "2025-07-14T06:07:40.979396Z",
     "start_time": "2025-07-14T06:07:26.530108Z"
    }
   },
   "source": [
    "import warnings\n",
    "from utils.dataset_MNIST import *\n",
    "from utils.OpenGAN_arc import *\n",
    "from utils.visualization import *\n",
    "from utils.extr_fea import *\n",
    "\n",
    "\n",
    "\n",
    "plt.rcParams[\"font.sans-serif\"] = [\"SimHei\"]\n",
    "plt.rcParams[\"axes.unicode_minus\"] = False\n",
    "warnings.filterwarnings('ignore', category=RuntimeWarning)"
   ],
   "outputs": [],
   "execution_count": 1
  },
  {
   "cell_type": "code",
   "id": "6a0091d1fe0900f0",
   "metadata": {
    "ExecuteTime": {
     "end_time": "2025-07-14T06:07:41.045542Z",
     "start_time": "2025-07-14T06:07:40.987210Z"
    }
   },
   "source": [
    "config = {\n",
    "    \"dataset\": \"MNIST\",  # 仅使用MNIST数据集\n",
    "    \"closed_classes\": [0, 1, 2, 3, 4],  # 闭集类别 (K=5)\n",
    "    \"open_classes\": [5, 6, 7, 8, 9],  # 开集类别\n",
    "    \"feature_dim\": 512,  # ResNet18特征维度\n",
    "    \"batch_size\": 128,\n",
    "    \"lr_classifier\": 0.01,  # 分类器学习率\n",
    "    \"lr_gan\": 1e-4,  # GAN学习率\n",
    "    \"classifier_epochs\": 10,  # 分类器训练轮数\n",
    "    \"gan_epochs\": 50,  # GAN训练轮数\n",
    "    \"lambda_g\": 0.2,  # 生成样本权重\n",
    "    \"val_ratio\": 0.1,  # 验证集比例\n",
    "    \"device\": \"cuda\" if torch.cuda.is_available() else \"cpu\",\n",
    "    \"save_dir\": \"./mnist_results\"  # 结果保存目录\n",
    "}\n",
    "# 创建保存目录\n",
    "os.makedirs(config[\"save_dir\"], exist_ok=True)"
   ],
   "outputs": [],
   "execution_count": 2
  },
  {
   "cell_type": "code",
   "id": "4b820d94009b8dff",
   "metadata": {
    "ExecuteTime": {
     "end_time": "2025-07-14T06:34:38.746441Z",
     "start_time": "2025-07-14T06:07:41.719706Z"
    }
   },
   "source": [
    "if __name__ == \"__main__\":\n",
    "    # 加载数据\n",
    "    train_loader, val_loader, test_loader = load_MNIST(config)\n",
    "\n",
    "    # 训练闭集分类器\n",
    "    classifier = train_classifierI(train_loader, val_loader, config)\n",
    "\n",
    "    # 训练OpenGAN\n",
    "    discriminator = train_opengan(classifier, train_loader, val_loader, config)\n",
    "\n",
    "    # 加载最佳判别器\n",
    "    best_discriminator = Discriminator().to(config[\"device\"])\n",
    "    best_discriminator.load_state_dict(\n",
    "        torch.load(os.path.join(config[\"save_dir\"], \"best_discriminator.pth\")))\n",
    "\n",
    "    # 可视化结果\n",
    "    visualize_results(classifier, best_discriminator, test_loader[\"closed\"], test_loader[\"open\"], config)\n",
    "\n",
    "    # 最终测试评估\n",
    "    test_auroc = evaluate_opengan(best_discriminator, classifier, test_loader[\"closed\"], test_loader[\"open\"], config)\n",
    "    print(f\"\\n最终测试集AUROC: {test_auroc:.4f}\")"
   ],
   "outputs": [
    {
     "name": "stdout",
     "output_type": "stream",
     "text": [
      "加载MNIST数据集...\n",
      "训练集: 27537闭集样本\n",
      "验证集: 3059闭集 + 3059开集样本\n",
      "测试集: 5139闭集 + 4861开集样本\n",
      "\n",
      "训练闭集分类器...\n"
     ]
    },
    {
     "name": "stderr",
     "output_type": "stream",
     "text": [
      "E:\\Anaconda\\envs\\dl_torch\\lib\\site-packages\\torchvision\\models\\_utils.py:208: UserWarning: The parameter 'pretrained' is deprecated since 0.13 and may be removed in the future, please use 'weights' instead.\n",
      "  warnings.warn(\n",
      "E:\\Anaconda\\envs\\dl_torch\\lib\\site-packages\\torchvision\\models\\_utils.py:223: UserWarning: Arguments other than a weight enum or `None` for 'weights' are deprecated since 0.13 and may be removed in the future. The current behavior is equivalent to passing `weights=None`.\n",
      "  warnings.warn(msg)\n",
      "分类器 Epoch 1: 100%|██████████| 216/216 [00:43<00:00,  4.94it/s]\n"
     ]
    },
    {
     "name": "stdout",
     "output_type": "stream",
     "text": [
      "Epoch 1: 训练损失=0.2222, 验证准确率=0.9582\n"
     ]
    },
    {
     "name": "stderr",
     "output_type": "stream",
     "text": [
      "分类器 Epoch 2: 100%|██████████| 216/216 [00:38<00:00,  5.63it/s]\n"
     ]
    },
    {
     "name": "stdout",
     "output_type": "stream",
     "text": [
      "Epoch 2: 训练损失=0.0383, 验证准确率=0.9928\n"
     ]
    },
    {
     "name": "stderr",
     "output_type": "stream",
     "text": [
      "分类器 Epoch 3: 100%|██████████| 216/216 [00:38<00:00,  5.62it/s]\n"
     ]
    },
    {
     "name": "stdout",
     "output_type": "stream",
     "text": [
      "Epoch 3: 训练损失=0.0236, 验证准确率=0.9954\n"
     ]
    },
    {
     "name": "stderr",
     "output_type": "stream",
     "text": [
      "分类器 Epoch 4: 100%|██████████| 216/216 [00:38<00:00,  5.61it/s]\n"
     ]
    },
    {
     "name": "stdout",
     "output_type": "stream",
     "text": [
      "Epoch 4: 训练损失=0.0152, 验证准确率=0.9980\n"
     ]
    },
    {
     "name": "stderr",
     "output_type": "stream",
     "text": [
      "分类器 Epoch 5: 100%|██████████| 216/216 [00:38<00:00,  5.61it/s]\n"
     ]
    },
    {
     "name": "stdout",
     "output_type": "stream",
     "text": [
      "Epoch 5: 训练损失=0.0167, 验证准确率=0.9958\n"
     ]
    },
    {
     "name": "stderr",
     "output_type": "stream",
     "text": [
      "分类器 Epoch 6: 100%|██████████| 216/216 [00:38<00:00,  5.59it/s]\n"
     ]
    },
    {
     "name": "stdout",
     "output_type": "stream",
     "text": [
      "Epoch 6: 训练损失=0.0130, 验证准确率=0.9951\n"
     ]
    },
    {
     "name": "stderr",
     "output_type": "stream",
     "text": [
      "分类器 Epoch 7: 100%|██████████| 216/216 [00:38<00:00,  5.59it/s]\n"
     ]
    },
    {
     "name": "stdout",
     "output_type": "stream",
     "text": [
      "Epoch 7: 训练损失=0.0154, 验证准确率=0.9951\n"
     ]
    },
    {
     "name": "stderr",
     "output_type": "stream",
     "text": [
      "分类器 Epoch 8: 100%|██████████| 216/216 [00:38<00:00,  5.60it/s]\n"
     ]
    },
    {
     "name": "stdout",
     "output_type": "stream",
     "text": [
      "Epoch 8: 训练损失=0.0080, 验证准确率=0.9958\n"
     ]
    },
    {
     "name": "stderr",
     "output_type": "stream",
     "text": [
      "分类器 Epoch 9: 100%|██████████| 216/216 [00:38<00:00,  5.60it/s]\n"
     ]
    },
    {
     "name": "stdout",
     "output_type": "stream",
     "text": [
      "Epoch 9: 训练损失=0.0091, 验证准确率=0.9974\n"
     ]
    },
    {
     "name": "stderr",
     "output_type": "stream",
     "text": [
      "分类器 Epoch 10: 100%|██████████| 216/216 [00:38<00:00,  5.59it/s]\n"
     ]
    },
    {
     "name": "stdout",
     "output_type": "stream",
     "text": [
      "Epoch 10: 训练损失=0.0104, 验证准确率=0.9935\n",
      "\n",
      "训练OpenGAN...\n"
     ]
    },
    {
     "name": "stderr",
     "output_type": "stream",
     "text": [
      "OpenGAN Epoch 1: 100%|██████████| 216/216 [00:18<00:00, 11.75it/s]\n"
     ]
    },
    {
     "name": "stdout",
     "output_type": "stream",
     "text": [
      "Epoch 1: D_loss=0.2586, G_loss=0.8797, Val AUROC=0.2524\n"
     ]
    },
    {
     "name": "stderr",
     "output_type": "stream",
     "text": [
      "OpenGAN Epoch 2: 100%|██████████| 216/216 [00:18<00:00, 11.76it/s]\n"
     ]
    },
    {
     "name": "stdout",
     "output_type": "stream",
     "text": [
      "Epoch 2: D_loss=-0.0655, G_loss=1.6318, Val AUROC=0.6221\n"
     ]
    },
    {
     "name": "stderr",
     "output_type": "stream",
     "text": [
      "OpenGAN Epoch 3: 100%|██████████| 216/216 [00:18<00:00, 11.68it/s]\n"
     ]
    },
    {
     "name": "stdout",
     "output_type": "stream",
     "text": [
      "Epoch 3: D_loss=-0.3231, G_loss=2.3968, Val AUROC=0.7589\n"
     ]
    },
    {
     "name": "stderr",
     "output_type": "stream",
     "text": [
      "OpenGAN Epoch 4: 100%|██████████| 216/216 [00:18<00:00, 11.75it/s]\n"
     ]
    },
    {
     "name": "stdout",
     "output_type": "stream",
     "text": [
      "Epoch 4: D_loss=-0.5392, G_loss=3.1724, Val AUROC=0.8412\n"
     ]
    },
    {
     "name": "stderr",
     "output_type": "stream",
     "text": [
      "OpenGAN Epoch 5: 100%|██████████| 216/216 [00:18<00:00, 11.71it/s]\n"
     ]
    },
    {
     "name": "stdout",
     "output_type": "stream",
     "text": [
      "Epoch 5: D_loss=-0.7481, G_loss=4.0120, Val AUROC=0.8181\n"
     ]
    },
    {
     "name": "stderr",
     "output_type": "stream",
     "text": [
      "OpenGAN Epoch 6: 100%|██████████| 216/216 [00:18<00:00, 11.69it/s]\n"
     ]
    },
    {
     "name": "stdout",
     "output_type": "stream",
     "text": [
      "Epoch 6: D_loss=-0.9405, G_loss=4.8579, Val AUROC=0.9118\n"
     ]
    },
    {
     "name": "stderr",
     "output_type": "stream",
     "text": [
      "OpenGAN Epoch 7: 100%|██████████| 216/216 [00:18<00:00, 11.72it/s]\n"
     ]
    },
    {
     "name": "stdout",
     "output_type": "stream",
     "text": [
      "Epoch 7: D_loss=-1.1358, G_loss=5.7778, Val AUROC=0.8344\n"
     ]
    },
    {
     "name": "stderr",
     "output_type": "stream",
     "text": [
      "OpenGAN Epoch 8: 100%|██████████| 216/216 [00:18<00:00, 11.72it/s]\n"
     ]
    },
    {
     "name": "stdout",
     "output_type": "stream",
     "text": [
      "Epoch 8: D_loss=-1.3379, G_loss=6.7622, Val AUROC=0.8526\n"
     ]
    },
    {
     "name": "stderr",
     "output_type": "stream",
     "text": [
      "OpenGAN Epoch 9: 100%|██████████| 216/216 [00:18<00:00, 11.78it/s]\n"
     ]
    },
    {
     "name": "stdout",
     "output_type": "stream",
     "text": [
      "Epoch 9: D_loss=-1.5463, G_loss=7.7924, Val AUROC=0.7367\n"
     ]
    },
    {
     "name": "stderr",
     "output_type": "stream",
     "text": [
      "OpenGAN Epoch 10: 100%|██████████| 216/216 [00:18<00:00, 11.78it/s]\n"
     ]
    },
    {
     "name": "stdout",
     "output_type": "stream",
     "text": [
      "Epoch 10: D_loss=-1.7539, G_loss=8.8348, Val AUROC=0.8524\n"
     ]
    },
    {
     "name": "stderr",
     "output_type": "stream",
     "text": [
      "OpenGAN Epoch 11: 100%|██████████| 216/216 [00:18<00:00, 11.76it/s]\n"
     ]
    },
    {
     "name": "stdout",
     "output_type": "stream",
     "text": [
      "Epoch 11: D_loss=-1.9325, G_loss=9.7352, Val AUROC=0.7824\n"
     ]
    },
    {
     "name": "stderr",
     "output_type": "stream",
     "text": [
      "OpenGAN Epoch 12: 100%|██████████| 216/216 [00:18<00:00, 11.74it/s]\n"
     ]
    },
    {
     "name": "stdout",
     "output_type": "stream",
     "text": [
      "Epoch 12: D_loss=-2.0984, G_loss=10.5532, Val AUROC=0.7913\n"
     ]
    },
    {
     "name": "stderr",
     "output_type": "stream",
     "text": [
      "OpenGAN Epoch 13: 100%|██████████| 216/216 [00:18<00:00, 11.76it/s]\n"
     ]
    },
    {
     "name": "stdout",
     "output_type": "stream",
     "text": [
      "Epoch 13: D_loss=-2.2432, G_loss=11.2748, Val AUROC=0.7677\n"
     ]
    },
    {
     "name": "stderr",
     "output_type": "stream",
     "text": [
      "OpenGAN Epoch 14: 100%|██████████| 216/216 [00:18<00:00, 11.70it/s]\n"
     ]
    },
    {
     "name": "stdout",
     "output_type": "stream",
     "text": [
      "Epoch 14: D_loss=-2.3549, G_loss=11.8412, Val AUROC=0.6409\n"
     ]
    },
    {
     "name": "stderr",
     "output_type": "stream",
     "text": [
      "OpenGAN Epoch 15: 100%|██████████| 216/216 [00:18<00:00, 11.70it/s]\n"
     ]
    },
    {
     "name": "stdout",
     "output_type": "stream",
     "text": [
      "Epoch 15: D_loss=-2.3660, G_loss=11.9375, Val AUROC=0.7507\n"
     ]
    },
    {
     "name": "stderr",
     "output_type": "stream",
     "text": [
      "OpenGAN Epoch 16: 100%|██████████| 216/216 [00:18<00:00, 11.61it/s]\n"
     ]
    },
    {
     "name": "stdout",
     "output_type": "stream",
     "text": [
      "Epoch 16: D_loss=-2.4740, G_loss=12.4521, Val AUROC=0.9290\n"
     ]
    },
    {
     "name": "stderr",
     "output_type": "stream",
     "text": [
      "OpenGAN Epoch 17: 100%|██████████| 216/216 [00:18<00:00, 11.69it/s]\n"
     ]
    },
    {
     "name": "stdout",
     "output_type": "stream",
     "text": [
      "Epoch 17: D_loss=-2.5324, G_loss=12.7371, Val AUROC=0.8082\n"
     ]
    },
    {
     "name": "stderr",
     "output_type": "stream",
     "text": [
      "OpenGAN Epoch 18: 100%|██████████| 216/216 [00:18<00:00, 11.70it/s]\n"
     ]
    },
    {
     "name": "stdout",
     "output_type": "stream",
     "text": [
      "Epoch 18: D_loss=-2.5733, G_loss=12.9643, Val AUROC=0.8301\n"
     ]
    },
    {
     "name": "stderr",
     "output_type": "stream",
     "text": [
      "OpenGAN Epoch 19: 100%|██████████| 216/216 [00:18<00:00, 11.67it/s]\n"
     ]
    },
    {
     "name": "stdout",
     "output_type": "stream",
     "text": [
      "Epoch 19: D_loss=-2.5347, G_loss=12.7625, Val AUROC=0.8417\n"
     ]
    },
    {
     "name": "stderr",
     "output_type": "stream",
     "text": [
      "OpenGAN Epoch 20: 100%|██████████| 216/216 [00:18<00:00, 11.76it/s]\n"
     ]
    },
    {
     "name": "stdout",
     "output_type": "stream",
     "text": [
      "Epoch 20: D_loss=-2.5683, G_loss=12.9606, Val AUROC=0.7798\n"
     ]
    },
    {
     "name": "stderr",
     "output_type": "stream",
     "text": [
      "OpenGAN Epoch 21: 100%|██████████| 216/216 [00:18<00:00, 11.74it/s]\n"
     ]
    },
    {
     "name": "stdout",
     "output_type": "stream",
     "text": [
      "Epoch 21: D_loss=-2.6392, G_loss=13.3254, Val AUROC=0.8737\n"
     ]
    },
    {
     "name": "stderr",
     "output_type": "stream",
     "text": [
      "OpenGAN Epoch 22: 100%|██████████| 216/216 [00:18<00:00, 11.72it/s]\n"
     ]
    },
    {
     "name": "stdout",
     "output_type": "stream",
     "text": [
      "Epoch 22: D_loss=-2.7180, G_loss=13.7205, Val AUROC=0.8586\n"
     ]
    },
    {
     "name": "stderr",
     "output_type": "stream",
     "text": [
      "OpenGAN Epoch 23: 100%|██████████| 216/216 [00:18<00:00, 11.72it/s]\n"
     ]
    },
    {
     "name": "stdout",
     "output_type": "stream",
     "text": [
      "Epoch 23: D_loss=-2.7963, G_loss=14.1223, Val AUROC=0.7956\n"
     ]
    },
    {
     "name": "stderr",
     "output_type": "stream",
     "text": [
      "OpenGAN Epoch 24: 100%|██████████| 216/216 [00:18<00:00, 11.73it/s]\n"
     ]
    },
    {
     "name": "stdout",
     "output_type": "stream",
     "text": [
      "Epoch 24: D_loss=-2.8541, G_loss=14.4450, Val AUROC=0.8209\n"
     ]
    },
    {
     "name": "stderr",
     "output_type": "stream",
     "text": [
      "OpenGAN Epoch 25: 100%|██████████| 216/216 [00:18<00:00, 11.72it/s]\n"
     ]
    },
    {
     "name": "stdout",
     "output_type": "stream",
     "text": [
      "Epoch 25: D_loss=-2.9164, G_loss=14.7537, Val AUROC=0.8434\n"
     ]
    },
    {
     "name": "stderr",
     "output_type": "stream",
     "text": [
      "OpenGAN Epoch 26: 100%|██████████| 216/216 [00:18<00:00, 11.72it/s]\n"
     ]
    },
    {
     "name": "stdout",
     "output_type": "stream",
     "text": [
      "Epoch 26: D_loss=-3.0139, G_loss=15.2027, Val AUROC=0.8458\n"
     ]
    },
    {
     "name": "stderr",
     "output_type": "stream",
     "text": [
      "OpenGAN Epoch 27: 100%|██████████| 216/216 [00:18<00:00, 11.68it/s]\n"
     ]
    },
    {
     "name": "stdout",
     "output_type": "stream",
     "text": [
      "Epoch 27: D_loss=-3.0570, G_loss=15.3882, Val AUROC=0.7608\n"
     ]
    },
    {
     "name": "stderr",
     "output_type": "stream",
     "text": [
      "OpenGAN Epoch 28: 100%|██████████| 216/216 [00:18<00:00, 11.73it/s]\n"
     ]
    },
    {
     "name": "stdout",
     "output_type": "stream",
     "text": [
      "Epoch 28: D_loss=-3.1758, G_loss=15.9516, Val AUROC=0.6754\n"
     ]
    },
    {
     "name": "stderr",
     "output_type": "stream",
     "text": [
      "OpenGAN Epoch 29: 100%|██████████| 216/216 [00:18<00:00, 11.68it/s]\n"
     ]
    },
    {
     "name": "stdout",
     "output_type": "stream",
     "text": [
      "Epoch 29: D_loss=-3.2211, G_loss=16.1127, Val AUROC=0.6973\n"
     ]
    },
    {
     "name": "stderr",
     "output_type": "stream",
     "text": [
      "OpenGAN Epoch 30: 100%|██████████| 216/216 [00:18<00:00, 11.69it/s]\n"
     ]
    },
    {
     "name": "stdout",
     "output_type": "stream",
     "text": [
      "Epoch 30: D_loss=-3.2235, G_loss=16.1180, Val AUROC=0.6702\n"
     ]
    },
    {
     "name": "stderr",
     "output_type": "stream",
     "text": [
      "OpenGAN Epoch 31: 100%|██████████| 216/216 [00:18<00:00, 11.71it/s]\n"
     ]
    },
    {
     "name": "stdout",
     "output_type": "stream",
     "text": [
      "Epoch 31: D_loss=-3.2235, G_loss=16.1180, Val AUROC=0.6944\n"
     ]
    },
    {
     "name": "stderr",
     "output_type": "stream",
     "text": [
      "OpenGAN Epoch 32: 100%|██████████| 216/216 [00:18<00:00, 11.69it/s]\n"
     ]
    },
    {
     "name": "stdout",
     "output_type": "stream",
     "text": [
      "Epoch 32: D_loss=-3.2236, G_loss=16.1180, Val AUROC=0.7587\n"
     ]
    },
    {
     "name": "stderr",
     "output_type": "stream",
     "text": [
      "OpenGAN Epoch 33: 100%|██████████| 216/216 [00:18<00:00, 11.47it/s]\n"
     ]
    },
    {
     "name": "stdout",
     "output_type": "stream",
     "text": [
      "Epoch 33: D_loss=-3.2235, G_loss=16.1178, Val AUROC=0.7562\n"
     ]
    },
    {
     "name": "stderr",
     "output_type": "stream",
     "text": [
      "OpenGAN Epoch 34: 100%|██████████| 216/216 [00:18<00:00, 11.55it/s]\n"
     ]
    },
    {
     "name": "stdout",
     "output_type": "stream",
     "text": [
      "Epoch 34: D_loss=-3.2235, G_loss=16.1180, Val AUROC=0.7562\n"
     ]
    },
    {
     "name": "stderr",
     "output_type": "stream",
     "text": [
      "OpenGAN Epoch 35: 100%|██████████| 216/216 [00:18<00:00, 11.56it/s]\n"
     ]
    },
    {
     "name": "stdout",
     "output_type": "stream",
     "text": [
      "Epoch 35: D_loss=-3.2236, G_loss=16.1173, Val AUROC=0.7972\n"
     ]
    },
    {
     "name": "stderr",
     "output_type": "stream",
     "text": [
      "OpenGAN Epoch 36: 100%|██████████| 216/216 [00:18<00:00, 11.46it/s]\n"
     ]
    },
    {
     "name": "stdout",
     "output_type": "stream",
     "text": [
      "Epoch 36: D_loss=-3.2229, G_loss=16.1172, Val AUROC=0.7547\n"
     ]
    },
    {
     "name": "stderr",
     "output_type": "stream",
     "text": [
      "OpenGAN Epoch 37: 100%|██████████| 216/216 [00:18<00:00, 11.50it/s]\n"
     ]
    },
    {
     "name": "stdout",
     "output_type": "stream",
     "text": [
      "Epoch 37: D_loss=-3.2236, G_loss=16.1181, Val AUROC=0.7501\n"
     ]
    },
    {
     "name": "stderr",
     "output_type": "stream",
     "text": [
      "OpenGAN Epoch 38: 100%|██████████| 216/216 [00:18<00:00, 11.56it/s]\n"
     ]
    },
    {
     "name": "stdout",
     "output_type": "stream",
     "text": [
      "Epoch 38: D_loss=-3.2235, G_loss=16.1180, Val AUROC=0.7051\n"
     ]
    },
    {
     "name": "stderr",
     "output_type": "stream",
     "text": [
      "OpenGAN Epoch 39: 100%|██████████| 216/216 [00:18<00:00, 11.50it/s]\n"
     ]
    },
    {
     "name": "stdout",
     "output_type": "stream",
     "text": [
      "Epoch 39: D_loss=-3.2236, G_loss=16.1181, Val AUROC=0.6883\n"
     ]
    },
    {
     "name": "stderr",
     "output_type": "stream",
     "text": [
      "OpenGAN Epoch 40: 100%|██████████| 216/216 [00:18<00:00, 11.63it/s]\n"
     ]
    },
    {
     "name": "stdout",
     "output_type": "stream",
     "text": [
      "Epoch 40: D_loss=-3.2236, G_loss=16.1181, Val AUROC=0.6780\n"
     ]
    },
    {
     "name": "stderr",
     "output_type": "stream",
     "text": [
      "OpenGAN Epoch 41: 100%|██████████| 216/216 [00:18<00:00, 11.42it/s]\n"
     ]
    },
    {
     "name": "stdout",
     "output_type": "stream",
     "text": [
      "Epoch 41: D_loss=-3.2235, G_loss=16.1181, Val AUROC=0.6779\n"
     ]
    },
    {
     "name": "stderr",
     "output_type": "stream",
     "text": [
      "OpenGAN Epoch 42: 100%|██████████| 216/216 [00:18<00:00, 11.53it/s]\n"
     ]
    },
    {
     "name": "stdout",
     "output_type": "stream",
     "text": [
      "Epoch 42: D_loss=-3.2236, G_loss=16.1180, Val AUROC=0.6566\n"
     ]
    },
    {
     "name": "stderr",
     "output_type": "stream",
     "text": [
      "OpenGAN Epoch 43: 100%|██████████| 216/216 [00:18<00:00, 11.66it/s]\n"
     ]
    },
    {
     "name": "stdout",
     "output_type": "stream",
     "text": [
      "Epoch 43: D_loss=-3.2236, G_loss=16.1180, Val AUROC=0.6409\n"
     ]
    },
    {
     "name": "stderr",
     "output_type": "stream",
     "text": [
      "OpenGAN Epoch 44: 100%|██████████| 216/216 [00:18<00:00, 11.49it/s]\n"
     ]
    },
    {
     "name": "stdout",
     "output_type": "stream",
     "text": [
      "Epoch 44: D_loss=-3.2236, G_loss=16.1181, Val AUROC=0.6355\n"
     ]
    },
    {
     "name": "stderr",
     "output_type": "stream",
     "text": [
      "OpenGAN Epoch 45: 100%|██████████| 216/216 [00:18<00:00, 11.56it/s]\n"
     ]
    },
    {
     "name": "stdout",
     "output_type": "stream",
     "text": [
      "Epoch 45: D_loss=-3.2236, G_loss=16.1181, Val AUROC=0.6388\n"
     ]
    },
    {
     "name": "stderr",
     "output_type": "stream",
     "text": [
      "OpenGAN Epoch 46: 100%|██████████| 216/216 [00:18<00:00, 11.39it/s]\n"
     ]
    },
    {
     "name": "stdout",
     "output_type": "stream",
     "text": [
      "Epoch 46: D_loss=-3.2236, G_loss=16.1181, Val AUROC=0.6347\n"
     ]
    },
    {
     "name": "stderr",
     "output_type": "stream",
     "text": [
      "OpenGAN Epoch 47: 100%|██████████| 216/216 [00:20<00:00, 10.48it/s]\n"
     ]
    },
    {
     "name": "stdout",
     "output_type": "stream",
     "text": [
      "Epoch 47: D_loss=-3.2236, G_loss=16.1181, Val AUROC=0.6211\n"
     ]
    },
    {
     "name": "stderr",
     "output_type": "stream",
     "text": [
      "OpenGAN Epoch 48: 100%|██████████| 216/216 [00:18<00:00, 11.54it/s]\n"
     ]
    },
    {
     "name": "stdout",
     "output_type": "stream",
     "text": [
      "Epoch 48: D_loss=-3.2236, G_loss=16.1181, Val AUROC=0.6634\n"
     ]
    },
    {
     "name": "stderr",
     "output_type": "stream",
     "text": [
      "OpenGAN Epoch 49: 100%|██████████| 216/216 [00:18<00:00, 11.39it/s]\n"
     ]
    },
    {
     "name": "stdout",
     "output_type": "stream",
     "text": [
      "Epoch 49: D_loss=-3.2236, G_loss=16.1181, Val AUROC=0.6353\n"
     ]
    },
    {
     "name": "stderr",
     "output_type": "stream",
     "text": [
      "OpenGAN Epoch 50: 100%|██████████| 216/216 [00:19<00:00, 10.94it/s]\n"
     ]
    },
    {
     "name": "stdout",
     "output_type": "stream",
     "text": [
      "Epoch 50: D_loss=-3.2236, G_loss=16.1181, Val AUROC=0.6378\n",
      "最佳验证AUROC: 0.9290\n",
      "\n",
      "可视化结果...\n",
      "测试集AUROC: 0.9375\n",
      "可视化特征空间...\n",
      "可视化决策边界...\n"
     ]
    },
    {
     "name": "stderr",
     "output_type": "stream",
     "text": [
      "E:\\Projects\\Learn\\OpenGAN\\utils\\visualization.py:196: UserWarning: You passed a edgecolor/edgecolors ('k') for an unfilled marker ('x').  Matplotlib is ignoring the edgecolor in favor of the facecolor.  This behavior may change in the future.\n",
      "  plt.scatter(features_2d[labels == 1, 0], features_2d[labels == 1, 1],\n"
     ]
    },
    {
     "name": "stdout",
     "output_type": "stream",
     "text": [
      "\n",
      "最终测试集AUROC: 0.9375\n"
     ]
    }
   ],
   "execution_count": 3
  }
 ],
 "metadata": {
  "kernelspec": {
   "display_name": "Python 3",
   "language": "python",
   "name": "python3"
  },
  "language_info": {
   "codemirror_mode": {
    "name": "ipython",
    "version": 2
   },
   "file_extension": ".py",
   "mimetype": "text/x-python",
   "name": "python",
   "nbconvert_exporter": "python",
   "pygments_lexer": "ipython2",
   "version": "2.7.6"
  }
 },
 "nbformat": 4,
 "nbformat_minor": 5
}
