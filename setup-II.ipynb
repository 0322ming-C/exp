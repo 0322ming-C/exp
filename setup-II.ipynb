{
 "cells": [
  {
   "cell_type": "code",
   "execution_count": 1,
   "id": "initial_id",
   "metadata": {
    "ExecuteTime": {
     "end_time": "2025-07-12T15:15:20.700724Z",
     "start_time": "2025-07-12T15:15:14.710180Z"
    },
    "ExecutionIndicator": {
     "show": true
    },
    "execution": {
     "iopub.execute_input": "2025-07-15T13:40:29.364448Z",
     "iopub.status.busy": "2025-07-15T13:40:29.364312Z",
     "iopub.status.idle": "2025-07-15T13:40:32.453008Z",
     "shell.execute_reply": "2025-07-15T13:40:32.452536Z",
     "shell.execute_reply.started": "2025-07-15T13:40:29.364432Z"
    },
    "tags": []
   },
   "outputs": [],
   "source": [
    "from torch.utils.data import DataLoader\n",
    "from utils.dataset_TinyImage import load_data\n",
    "from utils.OpenGAN_arc import Discriminator\n",
    "from utils import train_openganII\n",
    "from utils import visualize_results\n",
    "from utils import evaluate_opengan\n",
    "from utils import TinyImageClassifier\n",
    "from utils.extr_fea import *\n",
    "import warnings\n",
    "\n",
    "warnings.filterwarnings('ignore')"
   ]
  },
  {
   "cell_type": "code",
   "execution_count": 2,
   "id": "37c4af694377a2e9",
   "metadata": {
    "ExecuteTime": {
     "end_time": "2025-07-12T15:15:20.764066Z",
     "start_time": "2025-07-12T15:15:20.723878Z"
    },
    "ExecutionIndicator": {
     "show": true
    },
    "execution": {
     "iopub.execute_input": "2025-07-15T13:40:32.454371Z",
     "iopub.status.busy": "2025-07-15T13:40:32.453883Z",
     "iopub.status.idle": "2025-07-15T13:40:32.471363Z",
     "shell.execute_reply": "2025-07-15T13:40:32.470911Z",
     "shell.execute_reply.started": "2025-07-15T13:40:32.454352Z"
    },
    "tags": []
   },
   "outputs": [],
   "source": [
    "config = {\n",
    "    \"device\": \"cuda\" if torch.cuda.is_available() else \"cpu\",\n",
    "    \"batch_size\": 128,\n",
    "    \"num_closed_classes\": 200,  # TinyImageNet类别数\n",
    "    \"image_size\": 64,  # 统一图像尺寸\n",
    "    \"feature_dim\": 512,  # ResNet18特征维度\n",
    "\n",
    "    # 分类器训练参数\n",
    "    \"classifier_lr\": 0.001,\n",
    "    \"classifier_epochs\": 50,\n",
    "    \"classifier_momentum\": 0.9,\n",
    "    \"classifier_weight_decay\": 5e-4,\n",
    "\n",
    "    # OpenGAN参数\n",
    "    \"opengan_lr\": 1e-4,\n",
    "    \"opengan_epochs\": 50,\n",
    "    \"lambda_g\": 0.5,\n",
    "    \"lambda_gp\": 10.0,  # 梯度惩罚系数\n",
    "    \"d_train_ratio\": 5,  # 判别器训练次数/生成器训练次数\n",
    "\n",
    "    # 数据集路径\n",
    "    \"tinyimagenet_path\": \"./data/tiny-imagenet-200\",\n",
    "    \"output_dir\": \"./results_setup2\",\n",
    "    \"save_dir\": \"./results_setup2\",\n",
    "\n",
    "    # 开集数据集\n",
    "    \"open_datasets\": [\"CIFAR10\", \"SVHN\", \"MNIST\"],\n",
    "}\n",
    "\n",
    "os.makedirs(config[\"output_dir\"], exist_ok=True)"
   ]
  },
  {
   "cell_type": "code",
   "execution_count": 3,
   "id": "9970bc88415d7d13",
   "metadata": {
    "ExecuteTime": {
     "end_time": "2025-07-12T15:16:29.151293Z",
     "start_time": "2025-07-12T15:15:21.171471Z"
    },
    "ExecutionIndicator": {
     "show": true
    },
    "execution": {
     "iopub.execute_input": "2025-07-15T13:40:32.472002Z",
     "iopub.status.busy": "2025-07-15T13:40:32.471850Z",
     "iopub.status.idle": "2025-07-15T16:00:00.291204Z",
     "shell.execute_reply": "2025-07-15T16:00:00.290748Z",
     "shell.execute_reply.started": "2025-07-15T13:40:32.471986Z"
    },
    "tags": []
   },
   "outputs": [
    {
     "name": "stdout",
     "output_type": "stream",
     "text": [
      "加载TinyImageNet数据集...\n",
      "\n",
      "训练闭集分类器...\n"
     ]
    },
    {
     "name": "stderr",
     "output_type": "stream",
     "text": [
      "分类器 Epoch 1/50: 100%|██████████| 625/625 [01:41<00:00,  6.18it/s]\n"
     ]
    },
    {
     "name": "stdout",
     "output_type": "stream",
     "text": [
      "Epoch 1: 训练损失=3.4626, 验证准确率=0.2599\n"
     ]
    },
    {
     "name": "stderr",
     "output_type": "stream",
     "text": [
      "分类器 Epoch 2/50: 100%|██████████| 625/625 [01:40<00:00,  6.21it/s]\n"
     ]
    },
    {
     "name": "stdout",
     "output_type": "stream",
     "text": [
      "Epoch 2: 训练损失=2.8993, 验证准确率=0.2811\n"
     ]
    },
    {
     "name": "stderr",
     "output_type": "stream",
     "text": [
      "分类器 Epoch 3/50: 100%|██████████| 625/625 [01:40<00:00,  6.20it/s]\n"
     ]
    },
    {
     "name": "stdout",
     "output_type": "stream",
     "text": [
      "Epoch 3: 训练损失=2.7326, 验证准确率=0.2837\n"
     ]
    },
    {
     "name": "stderr",
     "output_type": "stream",
     "text": [
      "分类器 Epoch 4/50: 100%|██████████| 625/625 [01:40<00:00,  6.20it/s]\n"
     ]
    },
    {
     "name": "stdout",
     "output_type": "stream",
     "text": [
      "Epoch 4: 训练损失=2.6165, 验证准确率=0.3327\n"
     ]
    },
    {
     "name": "stderr",
     "output_type": "stream",
     "text": [
      "分类器 Epoch 5/50: 100%|██████████| 625/625 [01:41<00:00,  6.17it/s]\n"
     ]
    },
    {
     "name": "stdout",
     "output_type": "stream",
     "text": [
      "Epoch 5: 训练损失=2.5492, 验证准确率=0.3376\n"
     ]
    },
    {
     "name": "stderr",
     "output_type": "stream",
     "text": [
      "分类器 Epoch 6/50: 100%|██████████| 625/625 [01:41<00:00,  6.18it/s]\n"
     ]
    },
    {
     "name": "stdout",
     "output_type": "stream",
     "text": [
      "Epoch 6: 训练损失=2.4959, 验证准确率=0.3357\n"
     ]
    },
    {
     "name": "stderr",
     "output_type": "stream",
     "text": [
      "分类器 Epoch 7/50: 100%|██████████| 625/625 [01:41<00:00,  6.18it/s]\n"
     ]
    },
    {
     "name": "stdout",
     "output_type": "stream",
     "text": [
      "Epoch 7: 训练损失=2.4445, 验证准确率=0.3437\n"
     ]
    },
    {
     "name": "stderr",
     "output_type": "stream",
     "text": [
      "分类器 Epoch 8/50: 100%|██████████| 625/625 [01:41<00:00,  6.18it/s]\n"
     ]
    },
    {
     "name": "stdout",
     "output_type": "stream",
     "text": [
      "Epoch 8: 训练损失=2.3992, 验证准确率=0.3308\n"
     ]
    },
    {
     "name": "stderr",
     "output_type": "stream",
     "text": [
      "分类器 Epoch 9/50: 100%|██████████| 625/625 [01:41<00:00,  6.18it/s]\n"
     ]
    },
    {
     "name": "stdout",
     "output_type": "stream",
     "text": [
      "Epoch 9: 训练损失=2.3665, 验证准确率=0.3522\n"
     ]
    },
    {
     "name": "stderr",
     "output_type": "stream",
     "text": [
      "分类器 Epoch 10/50: 100%|██████████| 625/625 [01:41<00:00,  6.18it/s]\n"
     ]
    },
    {
     "name": "stdout",
     "output_type": "stream",
     "text": [
      "Epoch 10: 训练损失=2.3385, 验证准确率=0.3626\n"
     ]
    },
    {
     "name": "stderr",
     "output_type": "stream",
     "text": [
      "分类器 Epoch 11/50: 100%|██████████| 625/625 [01:41<00:00,  6.19it/s]\n"
     ]
    },
    {
     "name": "stdout",
     "output_type": "stream",
     "text": [
      "Epoch 11: 训练损失=2.3010, 验证准确率=0.3547\n"
     ]
    },
    {
     "name": "stderr",
     "output_type": "stream",
     "text": [
      "分类器 Epoch 12/50: 100%|██████████| 625/625 [01:41<00:00,  6.15it/s]\n"
     ]
    },
    {
     "name": "stdout",
     "output_type": "stream",
     "text": [
      "Epoch 12: 训练损失=2.2824, 验证准确率=0.3546\n"
     ]
    },
    {
     "name": "stderr",
     "output_type": "stream",
     "text": [
      "分类器 Epoch 13/50: 100%|██████████| 625/625 [01:41<00:00,  6.18it/s]\n"
     ]
    },
    {
     "name": "stdout",
     "output_type": "stream",
     "text": [
      "Epoch 13: 训练损失=2.2495, 验证准确率=0.3553\n"
     ]
    },
    {
     "name": "stderr",
     "output_type": "stream",
     "text": [
      "分类器 Epoch 14/50: 100%|██████████| 625/625 [01:41<00:00,  6.18it/s]\n"
     ]
    },
    {
     "name": "stdout",
     "output_type": "stream",
     "text": [
      "Epoch 14: 训练损失=2.2338, 验证准确率=0.3745\n"
     ]
    },
    {
     "name": "stderr",
     "output_type": "stream",
     "text": [
      "分类器 Epoch 15/50: 100%|██████████| 625/625 [01:41<00:00,  6.17it/s]\n"
     ]
    },
    {
     "name": "stdout",
     "output_type": "stream",
     "text": [
      "Epoch 15: 训练损失=2.2061, 验证准确率=0.3608\n"
     ]
    },
    {
     "name": "stderr",
     "output_type": "stream",
     "text": [
      "分类器 Epoch 16/50: 100%|██████████| 625/625 [01:41<00:00,  6.18it/s]\n"
     ]
    },
    {
     "name": "stdout",
     "output_type": "stream",
     "text": [
      "Epoch 16: 训练损失=2.1926, 验证准确率=0.3756\n"
     ]
    },
    {
     "name": "stderr",
     "output_type": "stream",
     "text": [
      "分类器 Epoch 17/50: 100%|██████████| 625/625 [01:40<00:00,  6.19it/s]\n"
     ]
    },
    {
     "name": "stdout",
     "output_type": "stream",
     "text": [
      "Epoch 17: 训练损失=2.1713, 验证准确率=0.3751\n"
     ]
    },
    {
     "name": "stderr",
     "output_type": "stream",
     "text": [
      "分类器 Epoch 18/50: 100%|██████████| 625/625 [01:40<00:00,  6.19it/s]\n"
     ]
    },
    {
     "name": "stdout",
     "output_type": "stream",
     "text": [
      "Epoch 18: 训练损失=2.1481, 验证准确率=0.3770\n"
     ]
    },
    {
     "name": "stderr",
     "output_type": "stream",
     "text": [
      "分类器 Epoch 19/50: 100%|██████████| 625/625 [01:41<00:00,  6.18it/s]\n"
     ]
    },
    {
     "name": "stdout",
     "output_type": "stream",
     "text": [
      "Epoch 19: 训练损失=2.1434, 验证准确率=0.3684\n"
     ]
    },
    {
     "name": "stderr",
     "output_type": "stream",
     "text": [
      "分类器 Epoch 20/50: 100%|██████████| 625/625 [01:41<00:00,  6.18it/s]\n"
     ]
    },
    {
     "name": "stdout",
     "output_type": "stream",
     "text": [
      "Epoch 20: 训练损失=2.1266, 验证准确率=0.3796\n"
     ]
    },
    {
     "name": "stderr",
     "output_type": "stream",
     "text": [
      "分类器 Epoch 21/50: 100%|██████████| 625/625 [01:41<00:00,  6.18it/s]\n"
     ]
    },
    {
     "name": "stdout",
     "output_type": "stream",
     "text": [
      "Epoch 21: 训练损失=1.6987, 验证准确率=0.4496\n"
     ]
    },
    {
     "name": "stderr",
     "output_type": "stream",
     "text": [
      "分类器 Epoch 22/50: 100%|██████████| 625/625 [01:41<00:00,  6.18it/s]\n"
     ]
    },
    {
     "name": "stdout",
     "output_type": "stream",
     "text": [
      "Epoch 22: 训练损失=1.5343, 验证准确率=0.4578\n"
     ]
    },
    {
     "name": "stderr",
     "output_type": "stream",
     "text": [
      "分类器 Epoch 23/50: 100%|██████████| 625/625 [01:41<00:00,  6.18it/s]\n"
     ]
    },
    {
     "name": "stdout",
     "output_type": "stream",
     "text": [
      "Epoch 23: 训练损失=1.4461, 验证准确率=0.4538\n"
     ]
    },
    {
     "name": "stderr",
     "output_type": "stream",
     "text": [
      "分类器 Epoch 24/50: 100%|██████████| 625/625 [01:41<00:00,  6.18it/s]\n"
     ]
    },
    {
     "name": "stdout",
     "output_type": "stream",
     "text": [
      "Epoch 24: 训练损失=1.3780, 验证准确率=0.4608\n"
     ]
    },
    {
     "name": "stderr",
     "output_type": "stream",
     "text": [
      "分类器 Epoch 25/50: 100%|██████████| 625/625 [01:41<00:00,  6.18it/s]\n"
     ]
    },
    {
     "name": "stdout",
     "output_type": "stream",
     "text": [
      "Epoch 25: 训练损失=1.3158, 验证准确率=0.4592\n"
     ]
    },
    {
     "name": "stderr",
     "output_type": "stream",
     "text": [
      "分类器 Epoch 26/50: 100%|██████████| 625/625 [01:41<00:00,  6.18it/s]\n"
     ]
    },
    {
     "name": "stdout",
     "output_type": "stream",
     "text": [
      "Epoch 26: 训练损失=1.2567, 验证准确率=0.4619\n"
     ]
    },
    {
     "name": "stderr",
     "output_type": "stream",
     "text": [
      "分类器 Epoch 27/50: 100%|██████████| 625/625 [01:41<00:00,  6.17it/s]\n"
     ]
    },
    {
     "name": "stdout",
     "output_type": "stream",
     "text": [
      "Epoch 27: 训练损失=1.2079, 验证准确率=0.4597\n"
     ]
    },
    {
     "name": "stderr",
     "output_type": "stream",
     "text": [
      "分类器 Epoch 28/50: 100%|██████████| 625/625 [01:41<00:00,  6.17it/s]\n"
     ]
    },
    {
     "name": "stdout",
     "output_type": "stream",
     "text": [
      "Epoch 28: 训练损失=1.1537, 验证准确率=0.4612\n"
     ]
    },
    {
     "name": "stderr",
     "output_type": "stream",
     "text": [
      "分类器 Epoch 29/50: 100%|██████████| 625/625 [01:41<00:00,  6.17it/s]\n"
     ]
    },
    {
     "name": "stdout",
     "output_type": "stream",
     "text": [
      "Epoch 29: 训练损失=1.1167, 验证准确率=0.4537\n"
     ]
    },
    {
     "name": "stderr",
     "output_type": "stream",
     "text": [
      "分类器 Epoch 30/50: 100%|██████████| 625/625 [01:41<00:00,  6.18it/s]\n"
     ]
    },
    {
     "name": "stdout",
     "output_type": "stream",
     "text": [
      "Epoch 30: 训练损失=1.0611, 验证准确率=0.4580\n"
     ]
    },
    {
     "name": "stderr",
     "output_type": "stream",
     "text": [
      "分类器 Epoch 31/50: 100%|██████████| 625/625 [01:41<00:00,  6.18it/s]\n"
     ]
    },
    {
     "name": "stdout",
     "output_type": "stream",
     "text": [
      "Epoch 31: 训练损失=1.0189, 验证准确率=0.4583\n"
     ]
    },
    {
     "name": "stderr",
     "output_type": "stream",
     "text": [
      "分类器 Epoch 32/50: 100%|██████████| 625/625 [01:41<00:00,  6.18it/s]\n"
     ]
    },
    {
     "name": "stdout",
     "output_type": "stream",
     "text": [
      "Epoch 32: 训练损失=0.9783, 验证准确率=0.4578\n"
     ]
    },
    {
     "name": "stderr",
     "output_type": "stream",
     "text": [
      "分类器 Epoch 33/50: 100%|██████████| 625/625 [01:41<00:00,  6.18it/s]\n"
     ]
    },
    {
     "name": "stdout",
     "output_type": "stream",
     "text": [
      "Epoch 33: 训练损失=0.9419, 验证准确率=0.4570\n"
     ]
    },
    {
     "name": "stderr",
     "output_type": "stream",
     "text": [
      "分类器 Epoch 34/50: 100%|██████████| 625/625 [01:41<00:00,  6.18it/s]\n"
     ]
    },
    {
     "name": "stdout",
     "output_type": "stream",
     "text": [
      "Epoch 34: 训练损失=0.8981, 验证准确率=0.4525\n"
     ]
    },
    {
     "name": "stderr",
     "output_type": "stream",
     "text": [
      "分类器 Epoch 35/50: 100%|██████████| 625/625 [01:41<00:00,  6.18it/s]\n"
     ]
    },
    {
     "name": "stdout",
     "output_type": "stream",
     "text": [
      "Epoch 35: 训练损失=0.8650, 验证准确率=0.4542\n"
     ]
    },
    {
     "name": "stderr",
     "output_type": "stream",
     "text": [
      "分类器 Epoch 36/50: 100%|██████████| 625/625 [01:41<00:00,  6.18it/s]\n"
     ]
    },
    {
     "name": "stdout",
     "output_type": "stream",
     "text": [
      "Epoch 36: 训练损失=0.8270, 验证准确率=0.4541\n"
     ]
    },
    {
     "name": "stderr",
     "output_type": "stream",
     "text": [
      "分类器 Epoch 37/50: 100%|██████████| 625/625 [01:41<00:00,  6.18it/s]\n"
     ]
    },
    {
     "name": "stdout",
     "output_type": "stream",
     "text": [
      "Epoch 37: 训练损失=0.7853, 验证准确率=0.4504\n"
     ]
    },
    {
     "name": "stderr",
     "output_type": "stream",
     "text": [
      "分类器 Epoch 38/50: 100%|██████████| 625/625 [01:41<00:00,  6.17it/s]\n"
     ]
    },
    {
     "name": "stdout",
     "output_type": "stream",
     "text": [
      "Epoch 38: 训练损失=0.7553, 验证准确率=0.4447\n"
     ]
    },
    {
     "name": "stderr",
     "output_type": "stream",
     "text": [
      "分类器 Epoch 39/50: 100%|██████████| 625/625 [01:40<00:00,  6.19it/s]\n"
     ]
    },
    {
     "name": "stdout",
     "output_type": "stream",
     "text": [
      "Epoch 39: 训练损失=0.7225, 验证准确率=0.4476\n"
     ]
    },
    {
     "name": "stderr",
     "output_type": "stream",
     "text": [
      "分类器 Epoch 40/50: 100%|██████████| 625/625 [01:41<00:00,  6.18it/s]\n"
     ]
    },
    {
     "name": "stdout",
     "output_type": "stream",
     "text": [
      "Epoch 40: 训练损失=0.6950, 验证准确率=0.4479\n"
     ]
    },
    {
     "name": "stderr",
     "output_type": "stream",
     "text": [
      "分类器 Epoch 41/50: 100%|██████████| 625/625 [01:41<00:00,  6.18it/s]\n"
     ]
    },
    {
     "name": "stdout",
     "output_type": "stream",
     "text": [
      "Epoch 41: 训练损失=0.5927, 验证准确率=0.4527\n"
     ]
    },
    {
     "name": "stderr",
     "output_type": "stream",
     "text": [
      "分类器 Epoch 42/50: 100%|██████████| 625/625 [01:41<00:00,  6.17it/s]\n"
     ]
    },
    {
     "name": "stdout",
     "output_type": "stream",
     "text": [
      "Epoch 42: 训练损失=0.5711, 验证准确率=0.4556\n"
     ]
    },
    {
     "name": "stderr",
     "output_type": "stream",
     "text": [
      "分类器 Epoch 43/50: 100%|██████████| 625/625 [01:41<00:00,  6.15it/s]\n"
     ]
    },
    {
     "name": "stdout",
     "output_type": "stream",
     "text": [
      "Epoch 43: 训练损失=0.5487, 验证准确率=0.4558\n"
     ]
    },
    {
     "name": "stderr",
     "output_type": "stream",
     "text": [
      "分类器 Epoch 44/50: 100%|██████████| 625/625 [01:41<00:00,  6.18it/s]\n"
     ]
    },
    {
     "name": "stdout",
     "output_type": "stream",
     "text": [
      "Epoch 44: 训练损失=0.5398, 验证准确率=0.4529\n"
     ]
    },
    {
     "name": "stderr",
     "output_type": "stream",
     "text": [
      "分类器 Epoch 45/50: 100%|██████████| 625/625 [01:41<00:00,  6.18it/s]\n"
     ]
    },
    {
     "name": "stdout",
     "output_type": "stream",
     "text": [
      "Epoch 45: 训练损失=0.5341, 验证准确率=0.4489\n"
     ]
    },
    {
     "name": "stderr",
     "output_type": "stream",
     "text": [
      "分类器 Epoch 46/50: 100%|██████████| 625/625 [01:41<00:00,  6.18it/s]\n"
     ]
    },
    {
     "name": "stdout",
     "output_type": "stream",
     "text": [
      "Epoch 46: 训练损失=0.5261, 验证准确率=0.4501\n"
     ]
    },
    {
     "name": "stderr",
     "output_type": "stream",
     "text": [
      "分类器 Epoch 47/50: 100%|██████████| 625/625 [01:41<00:00,  6.17it/s]\n"
     ]
    },
    {
     "name": "stdout",
     "output_type": "stream",
     "text": [
      "Epoch 47: 训练损失=0.5186, 验证准确率=0.4483\n"
     ]
    },
    {
     "name": "stderr",
     "output_type": "stream",
     "text": [
      "分类器 Epoch 48/50: 100%|██████████| 625/625 [01:41<00:00,  6.17it/s]\n"
     ]
    },
    {
     "name": "stdout",
     "output_type": "stream",
     "text": [
      "Epoch 48: 训练损失=0.5070, 验证准确率=0.4505\n"
     ]
    },
    {
     "name": "stderr",
     "output_type": "stream",
     "text": [
      "分类器 Epoch 49/50: 100%|██████████| 625/625 [01:41<00:00,  6.17it/s]\n"
     ]
    },
    {
     "name": "stdout",
     "output_type": "stream",
     "text": [
      "Epoch 49: 训练损失=0.5075, 验证准确率=0.4517\n"
     ]
    },
    {
     "name": "stderr",
     "output_type": "stream",
     "text": [
      "分类器 Epoch 50/50: 100%|██████████| 625/625 [01:41<00:00,  6.17it/s]\n"
     ]
    },
    {
     "name": "stdout",
     "output_type": "stream",
     "text": [
      "Epoch 50: 训练损失=0.4952, 验证准确率=0.4491\n",
      "训练OpenGAN...\n"
     ]
    },
    {
     "name": "stderr",
     "output_type": "stream",
     "text": [
      "OpenGAN Epoch 1: 100%|██████████| 391/391 [00:14<00:00, 26.90it/s]\n"
     ]
    },
    {
     "name": "stdout",
     "output_type": "stream",
     "text": [
      "Epoch 1: D_loss=-0.1505, G_loss=1.2747, Val AUROC=0.5545\n"
     ]
    },
    {
     "name": "stderr",
     "output_type": "stream",
     "text": [
      "OpenGAN Epoch 2: 100%|██████████| 391/391 [00:14<00:00, 27.09it/s]\n"
     ]
    },
    {
     "name": "stdout",
     "output_type": "stream",
     "text": [
      "Epoch 2: D_loss=-0.9772, G_loss=2.4147, Val AUROC=0.5740\n"
     ]
    },
    {
     "name": "stderr",
     "output_type": "stream",
     "text": [
      "OpenGAN Epoch 3: 100%|██████████| 391/391 [00:14<00:00, 27.01it/s]\n"
     ]
    },
    {
     "name": "stdout",
     "output_type": "stream",
     "text": [
      "Epoch 3: D_loss=-1.8250, G_loss=3.8546, Val AUROC=0.5851\n"
     ]
    },
    {
     "name": "stderr",
     "output_type": "stream",
     "text": [
      "OpenGAN Epoch 4: 100%|██████████| 391/391 [00:14<00:00, 27.17it/s]\n"
     ]
    },
    {
     "name": "stdout",
     "output_type": "stream",
     "text": [
      "Epoch 4: D_loss=-2.6755, G_loss=5.4383, Val AUROC=0.4310\n"
     ]
    },
    {
     "name": "stderr",
     "output_type": "stream",
     "text": [
      "OpenGAN Epoch 5: 100%|██████████| 391/391 [00:14<00:00, 26.98it/s]\n"
     ]
    },
    {
     "name": "stdout",
     "output_type": "stream",
     "text": [
      "Epoch 5: D_loss=-3.6232, G_loss=7.3173, Val AUROC=0.2683\n"
     ]
    },
    {
     "name": "stderr",
     "output_type": "stream",
     "text": [
      "OpenGAN Epoch 6: 100%|██████████| 391/391 [00:14<00:00, 27.07it/s]\n"
     ]
    },
    {
     "name": "stdout",
     "output_type": "stream",
     "text": [
      "Epoch 6: D_loss=-4.6911, G_loss=9.4347, Val AUROC=0.3666\n"
     ]
    },
    {
     "name": "stderr",
     "output_type": "stream",
     "text": [
      "OpenGAN Epoch 7: 100%|██████████| 391/391 [00:14<00:00, 27.13it/s]\n"
     ]
    },
    {
     "name": "stdout",
     "output_type": "stream",
     "text": [
      "Epoch 7: D_loss=-5.4477, G_loss=10.9760, Val AUROC=0.3000\n"
     ]
    },
    {
     "name": "stderr",
     "output_type": "stream",
     "text": [
      "OpenGAN Epoch 8: 100%|██████████| 391/391 [00:14<00:00, 27.02it/s]\n"
     ]
    },
    {
     "name": "stdout",
     "output_type": "stream",
     "text": [
      "Epoch 8: D_loss=-5.8703, G_loss=11.8289, Val AUROC=0.2332\n"
     ]
    },
    {
     "name": "stderr",
     "output_type": "stream",
     "text": [
      "OpenGAN Epoch 9: 100%|██████████| 391/391 [00:14<00:00, 27.12it/s]\n"
     ]
    },
    {
     "name": "stdout",
     "output_type": "stream",
     "text": [
      "Epoch 9: D_loss=-6.3591, G_loss=12.8265, Val AUROC=0.3583\n"
     ]
    },
    {
     "name": "stderr",
     "output_type": "stream",
     "text": [
      "OpenGAN Epoch 10: 100%|██████████| 391/391 [00:14<00:00, 27.19it/s]\n"
     ]
    },
    {
     "name": "stdout",
     "output_type": "stream",
     "text": [
      "Epoch 10: D_loss=-6.6570, G_loss=13.4479, Val AUROC=0.3831\n"
     ]
    },
    {
     "name": "stderr",
     "output_type": "stream",
     "text": [
      "OpenGAN Epoch 11: 100%|██████████| 391/391 [00:14<00:00, 26.89it/s]\n"
     ]
    },
    {
     "name": "stdout",
     "output_type": "stream",
     "text": [
      "Epoch 11: D_loss=-7.2245, G_loss=14.5974, Val AUROC=0.4798\n"
     ]
    },
    {
     "name": "stderr",
     "output_type": "stream",
     "text": [
      "OpenGAN Epoch 12: 100%|██████████| 391/391 [00:14<00:00, 26.84it/s]\n"
     ]
    },
    {
     "name": "stdout",
     "output_type": "stream",
     "text": [
      "Epoch 12: D_loss=-7.5112, G_loss=15.1537, Val AUROC=0.5238\n"
     ]
    },
    {
     "name": "stderr",
     "output_type": "stream",
     "text": [
      "OpenGAN Epoch 13: 100%|██████████| 391/391 [00:14<00:00, 26.15it/s]\n"
     ]
    },
    {
     "name": "stdout",
     "output_type": "stream",
     "text": [
      "Epoch 13: D_loss=-8.0418, G_loss=16.0975, Val AUROC=0.5558\n"
     ]
    },
    {
     "name": "stderr",
     "output_type": "stream",
     "text": [
      "OpenGAN Epoch 14: 100%|██████████| 391/391 [00:15<00:00, 25.82it/s]\n"
     ]
    },
    {
     "name": "stdout",
     "output_type": "stream",
     "text": [
      "Epoch 14: D_loss=-8.0575, G_loss=16.1171, Val AUROC=0.5352\n"
     ]
    },
    {
     "name": "stderr",
     "output_type": "stream",
     "text": [
      "OpenGAN Epoch 15: 100%|██████████| 391/391 [00:15<00:00, 25.77it/s]\n"
     ]
    },
    {
     "name": "stdout",
     "output_type": "stream",
     "text": [
      "Epoch 15: D_loss=-8.0583, G_loss=16.1177, Val AUROC=0.5467\n"
     ]
    },
    {
     "name": "stderr",
     "output_type": "stream",
     "text": [
      "OpenGAN Epoch 16: 100%|██████████| 391/391 [00:15<00:00, 25.87it/s]\n"
     ]
    },
    {
     "name": "stdout",
     "output_type": "stream",
     "text": [
      "Epoch 16: D_loss=-8.0587, G_loss=16.1180, Val AUROC=0.5564\n"
     ]
    },
    {
     "name": "stderr",
     "output_type": "stream",
     "text": [
      "OpenGAN Epoch 17: 100%|██████████| 391/391 [00:15<00:00, 25.85it/s]\n"
     ]
    },
    {
     "name": "stdout",
     "output_type": "stream",
     "text": [
      "Epoch 17: D_loss=-8.0589, G_loss=16.1180, Val AUROC=0.5512\n"
     ]
    },
    {
     "name": "stderr",
     "output_type": "stream",
     "text": [
      "OpenGAN Epoch 18: 100%|██████████| 391/391 [00:15<00:00, 25.89it/s]\n"
     ]
    },
    {
     "name": "stdout",
     "output_type": "stream",
     "text": [
      "Epoch 18: D_loss=-8.0589, G_loss=16.1180, Val AUROC=0.5383\n"
     ]
    },
    {
     "name": "stderr",
     "output_type": "stream",
     "text": [
      "OpenGAN Epoch 19: 100%|██████████| 391/391 [00:15<00:00, 25.93it/s]\n"
     ]
    },
    {
     "name": "stdout",
     "output_type": "stream",
     "text": [
      "Epoch 19: D_loss=-8.0588, G_loss=16.1179, Val AUROC=0.5467\n"
     ]
    },
    {
     "name": "stderr",
     "output_type": "stream",
     "text": [
      "OpenGAN Epoch 20: 100%|██████████| 391/391 [00:15<00:00, 25.80it/s]\n"
     ]
    },
    {
     "name": "stdout",
     "output_type": "stream",
     "text": [
      "Epoch 20: D_loss=-8.0584, G_loss=16.1176, Val AUROC=0.5215\n"
     ]
    },
    {
     "name": "stderr",
     "output_type": "stream",
     "text": [
      "OpenGAN Epoch 21: 100%|██████████| 391/391 [00:15<00:00, 25.78it/s]\n"
     ]
    },
    {
     "name": "stdout",
     "output_type": "stream",
     "text": [
      "Epoch 21: D_loss=-8.0590, G_loss=16.1181, Val AUROC=0.5172\n"
     ]
    },
    {
     "name": "stderr",
     "output_type": "stream",
     "text": [
      "OpenGAN Epoch 22: 100%|██████████| 391/391 [00:15<00:00, 25.95it/s]\n"
     ]
    },
    {
     "name": "stdout",
     "output_type": "stream",
     "text": [
      "Epoch 22: D_loss=-8.0585, G_loss=16.1176, Val AUROC=0.5234\n"
     ]
    },
    {
     "name": "stderr",
     "output_type": "stream",
     "text": [
      "OpenGAN Epoch 23: 100%|██████████| 391/391 [00:15<00:00, 25.86it/s]\n"
     ]
    },
    {
     "name": "stdout",
     "output_type": "stream",
     "text": [
      "Epoch 23: D_loss=-8.0590, G_loss=16.1181, Val AUROC=0.5309\n"
     ]
    },
    {
     "name": "stderr",
     "output_type": "stream",
     "text": [
      "OpenGAN Epoch 24: 100%|██████████| 391/391 [00:15<00:00, 25.83it/s]\n"
     ]
    },
    {
     "name": "stdout",
     "output_type": "stream",
     "text": [
      "Epoch 24: D_loss=-8.0590, G_loss=16.1181, Val AUROC=0.5217\n"
     ]
    },
    {
     "name": "stderr",
     "output_type": "stream",
     "text": [
      "OpenGAN Epoch 25: 100%|██████████| 391/391 [00:15<00:00, 25.69it/s]\n"
     ]
    },
    {
     "name": "stdout",
     "output_type": "stream",
     "text": [
      "Epoch 25: D_loss=-8.0590, G_loss=16.1181, Val AUROC=0.5133\n"
     ]
    },
    {
     "name": "stderr",
     "output_type": "stream",
     "text": [
      "OpenGAN Epoch 26: 100%|██████████| 391/391 [00:15<00:00, 25.84it/s]\n"
     ]
    },
    {
     "name": "stdout",
     "output_type": "stream",
     "text": [
      "Epoch 26: D_loss=-8.0578, G_loss=16.1168, Val AUROC=0.5697\n"
     ]
    },
    {
     "name": "stderr",
     "output_type": "stream",
     "text": [
      "OpenGAN Epoch 27: 100%|██████████| 391/391 [00:15<00:00, 25.85it/s]\n"
     ]
    },
    {
     "name": "stdout",
     "output_type": "stream",
     "text": [
      "Epoch 27: D_loss=-8.0590, G_loss=16.1181, Val AUROC=0.5303\n"
     ]
    },
    {
     "name": "stderr",
     "output_type": "stream",
     "text": [
      "OpenGAN Epoch 28: 100%|██████████| 391/391 [00:15<00:00, 25.89it/s]\n"
     ]
    },
    {
     "name": "stdout",
     "output_type": "stream",
     "text": [
      "Epoch 28: D_loss=-8.0590, G_loss=16.1181, Val AUROC=0.5394\n"
     ]
    },
    {
     "name": "stderr",
     "output_type": "stream",
     "text": [
      "OpenGAN Epoch 29: 100%|██████████| 391/391 [00:15<00:00, 25.93it/s]\n"
     ]
    },
    {
     "name": "stdout",
     "output_type": "stream",
     "text": [
      "Epoch 29: D_loss=-8.0590, G_loss=16.1181, Val AUROC=0.5382\n"
     ]
    },
    {
     "name": "stderr",
     "output_type": "stream",
     "text": [
      "OpenGAN Epoch 30: 100%|██████████| 391/391 [00:15<00:00, 25.88it/s]\n"
     ]
    },
    {
     "name": "stdout",
     "output_type": "stream",
     "text": [
      "Epoch 30: D_loss=-8.0590, G_loss=16.1181, Val AUROC=0.5412\n"
     ]
    },
    {
     "name": "stderr",
     "output_type": "stream",
     "text": [
      "OpenGAN Epoch 31: 100%|██████████| 391/391 [00:15<00:00, 25.90it/s]\n"
     ]
    },
    {
     "name": "stdout",
     "output_type": "stream",
     "text": [
      "Epoch 31: D_loss=-8.0590, G_loss=16.1181, Val AUROC=0.5267\n"
     ]
    },
    {
     "name": "stderr",
     "output_type": "stream",
     "text": [
      "OpenGAN Epoch 32: 100%|██████████| 391/391 [00:15<00:00, 25.96it/s]\n"
     ]
    },
    {
     "name": "stdout",
     "output_type": "stream",
     "text": [
      "Epoch 32: D_loss=-8.0590, G_loss=16.1181, Val AUROC=0.5316\n"
     ]
    },
    {
     "name": "stderr",
     "output_type": "stream",
     "text": [
      "OpenGAN Epoch 33: 100%|██████████| 391/391 [00:15<00:00, 25.72it/s]\n"
     ]
    },
    {
     "name": "stdout",
     "output_type": "stream",
     "text": [
      "Epoch 33: D_loss=-8.0549, G_loss=16.1141, Val AUROC=0.5052\n"
     ]
    },
    {
     "name": "stderr",
     "output_type": "stream",
     "text": [
      "OpenGAN Epoch 34: 100%|██████████| 391/391 [00:15<00:00, 25.82it/s]\n"
     ]
    },
    {
     "name": "stdout",
     "output_type": "stream",
     "text": [
      "Epoch 34: D_loss=-8.0590, G_loss=16.1181, Val AUROC=0.5065\n"
     ]
    },
    {
     "name": "stderr",
     "output_type": "stream",
     "text": [
      "OpenGAN Epoch 35: 100%|██████████| 391/391 [00:15<00:00, 25.72it/s]\n"
     ]
    },
    {
     "name": "stdout",
     "output_type": "stream",
     "text": [
      "Epoch 35: D_loss=-8.0590, G_loss=16.1181, Val AUROC=0.5077\n"
     ]
    },
    {
     "name": "stderr",
     "output_type": "stream",
     "text": [
      "OpenGAN Epoch 36: 100%|██████████| 391/391 [00:15<00:00, 25.88it/s]\n"
     ]
    },
    {
     "name": "stdout",
     "output_type": "stream",
     "text": [
      "Epoch 36: D_loss=-8.0590, G_loss=16.1181, Val AUROC=0.5063\n"
     ]
    },
    {
     "name": "stderr",
     "output_type": "stream",
     "text": [
      "OpenGAN Epoch 37: 100%|██████████| 391/391 [00:15<00:00, 25.85it/s]\n"
     ]
    },
    {
     "name": "stdout",
     "output_type": "stream",
     "text": [
      "Epoch 37: D_loss=-8.0590, G_loss=16.1181, Val AUROC=0.5043\n"
     ]
    },
    {
     "name": "stderr",
     "output_type": "stream",
     "text": [
      "OpenGAN Epoch 38: 100%|██████████| 391/391 [00:15<00:00, 25.56it/s]\n"
     ]
    },
    {
     "name": "stdout",
     "output_type": "stream",
     "text": [
      "Epoch 38: D_loss=-8.0590, G_loss=16.1181, Val AUROC=0.5065\n"
     ]
    },
    {
     "name": "stderr",
     "output_type": "stream",
     "text": [
      "OpenGAN Epoch 39: 100%|██████████| 391/391 [00:15<00:00, 25.58it/s]\n"
     ]
    },
    {
     "name": "stdout",
     "output_type": "stream",
     "text": [
      "Epoch 39: D_loss=-8.0587, G_loss=16.1176, Val AUROC=0.5000\n"
     ]
    },
    {
     "name": "stderr",
     "output_type": "stream",
     "text": [
      "OpenGAN Epoch 40: 100%|██████████| 391/391 [00:15<00:00, 25.70it/s]\n"
     ]
    },
    {
     "name": "stdout",
     "output_type": "stream",
     "text": [
      "Epoch 40: D_loss=-8.0590, G_loss=16.1181, Val AUROC=0.5001\n"
     ]
    },
    {
     "name": "stderr",
     "output_type": "stream",
     "text": [
      "OpenGAN Epoch 41: 100%|██████████| 391/391 [00:15<00:00, 25.68it/s]\n"
     ]
    },
    {
     "name": "stdout",
     "output_type": "stream",
     "text": [
      "Epoch 41: D_loss=-8.0590, G_loss=16.1181, Val AUROC=0.5000\n"
     ]
    },
    {
     "name": "stderr",
     "output_type": "stream",
     "text": [
      "OpenGAN Epoch 42: 100%|██████████| 391/391 [00:15<00:00, 25.96it/s]\n"
     ]
    },
    {
     "name": "stdout",
     "output_type": "stream",
     "text": [
      "Epoch 42: D_loss=-8.0589, G_loss=16.1180, Val AUROC=0.5000\n"
     ]
    },
    {
     "name": "stderr",
     "output_type": "stream",
     "text": [
      "OpenGAN Epoch 43: 100%|██████████| 391/391 [00:15<00:00, 25.78it/s]\n"
     ]
    },
    {
     "name": "stdout",
     "output_type": "stream",
     "text": [
      "Epoch 43: D_loss=-8.0590, G_loss=16.1181, Val AUROC=0.5000\n"
     ]
    },
    {
     "name": "stderr",
     "output_type": "stream",
     "text": [
      "OpenGAN Epoch 44: 100%|██████████| 391/391 [00:15<00:00, 25.91it/s]\n"
     ]
    },
    {
     "name": "stdout",
     "output_type": "stream",
     "text": [
      "Epoch 44: D_loss=-8.0590, G_loss=16.1181, Val AUROC=0.5000\n"
     ]
    },
    {
     "name": "stderr",
     "output_type": "stream",
     "text": [
      "OpenGAN Epoch 45: 100%|██████████| 391/391 [00:15<00:00, 25.63it/s]\n"
     ]
    },
    {
     "name": "stdout",
     "output_type": "stream",
     "text": [
      "Epoch 45: D_loss=-8.0590, G_loss=16.1181, Val AUROC=0.4999\n"
     ]
    },
    {
     "name": "stderr",
     "output_type": "stream",
     "text": [
      "OpenGAN Epoch 46: 100%|██████████| 391/391 [00:15<00:00, 25.79it/s]\n"
     ]
    },
    {
     "name": "stdout",
     "output_type": "stream",
     "text": [
      "Epoch 46: D_loss=-8.0590, G_loss=16.1181, Val AUROC=0.5000\n"
     ]
    },
    {
     "name": "stderr",
     "output_type": "stream",
     "text": [
      "OpenGAN Epoch 47: 100%|██████████| 391/391 [00:15<00:00, 25.66it/s]\n"
     ]
    },
    {
     "name": "stdout",
     "output_type": "stream",
     "text": [
      "Epoch 47: D_loss=-8.0590, G_loss=16.1181, Val AUROC=0.5000\n"
     ]
    },
    {
     "name": "stderr",
     "output_type": "stream",
     "text": [
      "OpenGAN Epoch 48: 100%|██████████| 391/391 [00:15<00:00, 25.64it/s]\n"
     ]
    },
    {
     "name": "stdout",
     "output_type": "stream",
     "text": [
      "Epoch 48: D_loss=-8.0590, G_loss=16.1181, Val AUROC=0.4999\n"
     ]
    },
    {
     "name": "stderr",
     "output_type": "stream",
     "text": [
      "OpenGAN Epoch 49: 100%|██████████| 391/391 [00:15<00:00, 25.66it/s]\n"
     ]
    },
    {
     "name": "stdout",
     "output_type": "stream",
     "text": [
      "Epoch 49: D_loss=-8.0590, G_loss=16.1181, Val AUROC=0.5000\n"
     ]
    },
    {
     "name": "stderr",
     "output_type": "stream",
     "text": [
      "OpenGAN Epoch 50: 100%|██████████| 391/391 [00:15<00:00, 25.74it/s]\n"
     ]
    },
    {
     "name": "stdout",
     "output_type": "stream",
     "text": [
      "Epoch 50: D_loss=-8.0590, G_loss=16.1181, Val AUROC=0.4999\n",
      "\n",
      "最终测试集AUROC: 0.6121\n"
     ]
    }
   ],
   "source": [
    "if __name__ == '__main__':\n",
    "    # 加载TinyImageNet数据集\n",
    "    data_dict = load_data(config)\n",
    "    closed_train_loader = DataLoader(\n",
    "        data_dict[\"closed\"][\"train\"],\n",
    "        batch_size=config[\"batch_size\"],\n",
    "        shuffle=True\n",
    "    )\n",
    "    closed_val_loader = DataLoader(\n",
    "        data_dict[\"closed\"][\"val\"],\n",
    "        batch_size=config[\"batch_size\"],\n",
    "        shuffle=False\n",
    "    )\n",
    "    # 训练闭集分类器\n",
    "    classifier = train_classifierII(closed_train_loader, closed_val_loader,config)\n",
    "    # 加载开集数据集\n",
    "    open_train_data = data_dict[\"open\"][\"CIFAR10\"][\"train\"]\n",
    "    open_train_loader = DataLoader(\n",
    "        open_train_data,\n",
    "        batch_size=config[\"batch_size\"],\n",
    "        shuffle=True\n",
    "    )\n",
    "    val_data = {\n",
    "    \"closed\": closed_val_loader,\n",
    "    \"open\": DataLoader(\n",
    "        data_dict[\"open\"][\"CIFAR10\"][\"test\"],  # 或其它你想用的 open 数据集\n",
    "        batch_size=config[\"batch_size\"],\n",
    "        shuffle=False\n",
    "    )\n",
    "}\n",
    "    # 训练OpenGAN\n",
    "    discriminator = train_openganII(\n",
    "        classifier, open_train_loader, val_data, config\n",
    "    )\n",
    "    # classifier = TinyImageClassifier(num_classes=config[\"num_closed_classes\"]).to(config[\"device\"])\n",
    "    # classifier.load_state_dict(torch.load(os.path.join(config[\"save_dir\"], \"best_classifierII.pth\")))\n",
    "    best_discriminator = Discriminator().to(config[\"device\"])\n",
    "    best_discriminator.load_state_dict(\n",
    "        torch.load(os.path.join(config[\"output_dir\"], \"best_discriminator.pth\"))\n",
    "    )\n",
    "    # visualize_results(\n",
    "    #     classifier, best_discriminator, data_dict[\"closed\"][\"test\"],data_dict[\"open\"][\"CIFAR10\"][\"test\"],config\n",
    "    # )\n",
    "    # 最终测试评估\n",
    "    test_auroc = evaluate_opengan(\n",
    "        best_discriminator, classifier, data_dict[\"closed\"][\"test\"], data_dict[\"open\"][\"CIFAR10\"][\"test\"], config\n",
    "    )\n",
    "    print(f\"\\n最终测试集AUROC: {test_auroc:.4f}\")"
   ]
  },
  {
   "cell_type": "code",
   "execution_count": null,
   "id": "308974ff3221ddfc",
   "metadata": {},
   "outputs": [],
   "source": []
  }
 ],
 "metadata": {
  "kernelspec": {
   "display_name": "Python 3 (ipykernel)",
   "language": "python",
   "name": "python3"
  },
  "language_info": {
   "codemirror_mode": {
    "name": "ipython",
    "version": 3
   },
   "file_extension": ".py",
   "mimetype": "text/x-python",
   "name": "python",
   "nbconvert_exporter": "python",
   "pygments_lexer": "ipython3",
   "version": "3.11.11"
  }
 },
 "nbformat": 4,
 "nbformat_minor": 5
}
